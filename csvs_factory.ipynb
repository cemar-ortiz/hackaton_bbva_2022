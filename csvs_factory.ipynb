{
 "cells": [
  {
   "cell_type": "markdown",
   "metadata": {},
   "source": [
    "# Generador de csvs para demo "
   ]
  },
  {
   "cell_type": "code",
   "execution_count": 1,
   "metadata": {},
   "outputs": [],
   "source": [
    "import pandas as pd"
   ]
  },
  {
   "cell_type": "code",
   "execution_count": 4,
   "metadata": {},
   "outputs": [],
   "source": [
    "atms_raw = pd.read_csv(\"data_hackaton/atms-raw.csv\")\n",
    "issues_raw = pd.read_csv(\"data_hackaton/issues-raw.csv\", delimiter=\";\", decimal=\",\")"
   ]
  },
  {
   "cell_type": "markdown",
   "metadata": {},
   "source": [
    "CSV con latitud y longitud de los cajeros que son practicaja"
   ]
  },
  {
   "cell_type": "code",
   "execution_count": 6,
   "metadata": {},
   "outputs": [
    {
     "data": {
      "text/plain": [
       "Index(['ATM', 'Sitio', 'CR', 'Division', 'Marca', 'Tipo dispositivo',\n",
       "       'Estatus dispositivo', 'Calle', 'Num. Ext.', 'Estado', 'Ciudad', 'CP',\n",
       "       'Del/Muni', 'Colonia', 'Latitud', 'Longitud', 'Tipo localidad', 'IDC',\n",
       "       'ETV'],\n",
       "      dtype='object')"
      ]
     },
     "execution_count": 6,
     "metadata": {},
     "output_type": "execute_result"
    }
   ],
   "source": [
    "atms_raw.columns"
   ]
  },
  {
   "cell_type": "code",
   "execution_count": 67,
   "metadata": {},
   "outputs": [
    {
     "data": {
      "text/html": [
       "<div>\n",
       "<style scoped>\n",
       "    .dataframe tbody tr th:only-of-type {\n",
       "        vertical-align: middle;\n",
       "    }\n",
       "\n",
       "    .dataframe tbody tr th {\n",
       "        vertical-align: top;\n",
       "    }\n",
       "\n",
       "    .dataframe thead th {\n",
       "        text-align: right;\n",
       "    }\n",
       "</style>\n",
       "<table border=\"1\" class=\"dataframe\">\n",
       "  <thead>\n",
       "    <tr style=\"text-align: right;\">\n",
       "      <th></th>\n",
       "      <th>ATM</th>\n",
       "      <th>Latitud</th>\n",
       "      <th>Longitud</th>\n",
       "      <th>Tipo dispositivo</th>\n",
       "      <th>ETV</th>\n",
       "    </tr>\n",
       "  </thead>\n",
       "  <tbody>\n",
       "    <tr>\n",
       "      <th>0</th>\n",
       "      <td>2</td>\n",
       "      <td>19.388584</td>\n",
       "      <td>-99.247905</td>\n",
       "      <td>DISPENSADOR</td>\n",
       "      <td>APODERADO</td>\n",
       "    </tr>\n",
       "    <tr>\n",
       "      <th>1</th>\n",
       "      <td>4</td>\n",
       "      <td>24.807033</td>\n",
       "      <td>-107.394186</td>\n",
       "      <td>DISPENSADOR</td>\n",
       "      <td>SEPSA</td>\n",
       "    </tr>\n",
       "  </tbody>\n",
       "</table>\n",
       "</div>"
      ],
      "text/plain": [
       "  ATM    Latitud    Longitud Tipo dispositivo        ETV\n",
       "0   2  19.388584  -99.247905      DISPENSADOR  APODERADO\n",
       "1   4  24.807033 -107.394186      DISPENSADOR      SEPSA"
      ]
     },
     "execution_count": 67,
     "metadata": {},
     "output_type": "execute_result"
    }
   ],
   "source": [
    "atms_reduced = atms_raw[['ATM', 'Latitud', 'Longitud', 'Tipo dispositivo', 'ETV']]\n",
    "atms_reduced.head(2)"
   ]
  },
  {
   "cell_type": "code",
   "execution_count": 68,
   "metadata": {},
   "outputs": [
    {
     "name": "stdout",
     "output_type": "stream",
     "text": [
      "<class 'pandas.core.frame.DataFrame'>\n",
      "RangeIndex: 13782 entries, 0 to 13781\n",
      "Data columns (total 5 columns):\n",
      " #   Column            Non-Null Count  Dtype  \n",
      "---  ------            --------------  -----  \n",
      " 0   ATM               13782 non-null  object \n",
      " 1   Latitud           13782 non-null  object \n",
      " 2   Longitud          13782 non-null  float64\n",
      " 3   Tipo dispositivo  13782 non-null  object \n",
      " 4   ETV               13782 non-null  object \n",
      "dtypes: float64(1), object(4)\n",
      "memory usage: 538.5+ KB\n"
     ]
    }
   ],
   "source": [
    "atms_reduced.info()"
   ]
  },
  {
   "cell_type": "code",
   "execution_count": 69,
   "metadata": {},
   "outputs": [
    {
     "name": "stderr",
     "output_type": "stream",
     "text": [
      "/tmp/ipykernel_1475/3015021134.py:1: FutureWarning: The default value of regex will change from True to False in a future version.\n",
      "  atms_reduced[\"Latitud\"] = atms_reduced[\"Latitud\"].str.replace(\"\\.\", \"\")\n",
      "/tmp/ipykernel_1475/3015021134.py:1: SettingWithCopyWarning: \n",
      "A value is trying to be set on a copy of a slice from a DataFrame.\n",
      "Try using .loc[row_indexer,col_indexer] = value instead\n",
      "\n",
      "See the caveats in the documentation: https://pandas.pydata.org/pandas-docs/stable/user_guide/indexing.html#returning-a-view-versus-a-copy\n",
      "  atms_reduced[\"Latitud\"] = atms_reduced[\"Latitud\"].str.replace(\"\\.\", \"\")\n",
      "/tmp/ipykernel_1475/3015021134.py:2: SettingWithCopyWarning: \n",
      "A value is trying to be set on a copy of a slice from a DataFrame.\n",
      "Try using .loc[row_indexer,col_indexer] = value instead\n",
      "\n",
      "See the caveats in the documentation: https://pandas.pydata.org/pandas-docs/stable/user_guide/indexing.html#returning-a-view-versus-a-copy\n",
      "  atms_reduced[\"Latitud\"] = (atms_reduced[\"Latitud\"].str[:2] + '.' + atms_reduced[\"Latitud\"].str[2:]).astype(float)\n"
     ]
    },
    {
     "data": {
      "text/html": [
       "<div>\n",
       "<style scoped>\n",
       "    .dataframe tbody tr th:only-of-type {\n",
       "        vertical-align: middle;\n",
       "    }\n",
       "\n",
       "    .dataframe tbody tr th {\n",
       "        vertical-align: top;\n",
       "    }\n",
       "\n",
       "    .dataframe thead th {\n",
       "        text-align: right;\n",
       "    }\n",
       "</style>\n",
       "<table border=\"1\" class=\"dataframe\">\n",
       "  <thead>\n",
       "    <tr style=\"text-align: right;\">\n",
       "      <th></th>\n",
       "      <th>ATM</th>\n",
       "      <th>Latitud</th>\n",
       "      <th>Longitud</th>\n",
       "      <th>Tipo dispositivo</th>\n",
       "      <th>ETV</th>\n",
       "    </tr>\n",
       "  </thead>\n",
       "  <tbody>\n",
       "    <tr>\n",
       "      <th>0</th>\n",
       "      <td>2</td>\n",
       "      <td>19.388584</td>\n",
       "      <td>-99.247905</td>\n",
       "      <td>DISPENSADOR</td>\n",
       "      <td>APODERADO</td>\n",
       "    </tr>\n",
       "    <tr>\n",
       "      <th>1</th>\n",
       "      <td>4</td>\n",
       "      <td>24.807033</td>\n",
       "      <td>-107.394186</td>\n",
       "      <td>DISPENSADOR</td>\n",
       "      <td>SEPSA</td>\n",
       "    </tr>\n",
       "  </tbody>\n",
       "</table>\n",
       "</div>"
      ],
      "text/plain": [
       "  ATM    Latitud    Longitud Tipo dispositivo        ETV\n",
       "0   2  19.388584  -99.247905      DISPENSADOR  APODERADO\n",
       "1   4  24.807033 -107.394186      DISPENSADOR      SEPSA"
      ]
     },
     "execution_count": 69,
     "metadata": {},
     "output_type": "execute_result"
    }
   ],
   "source": [
    "atms_reduced[\"Latitud\"] = atms_reduced[\"Latitud\"].str.replace(\"\\.\", \"\")\n",
    "atms_reduced[\"Latitud\"] = (atms_reduced[\"Latitud\"].str[:2] + '.' + atms_reduced[\"Latitud\"].str[2:]).astype(float)\n",
    "atms_reduced.head(2)\n"
   ]
  },
  {
   "cell_type": "code",
   "execution_count": 42,
   "metadata": {},
   "outputs": [
    {
     "data": {
      "text/plain": [
       "array(['DISPENSADOR', 'PRACTDUAL', 'AUTOBANCO'], dtype=object)"
      ]
     },
     "execution_count": 42,
     "metadata": {},
     "output_type": "execute_result"
    }
   ],
   "source": [
    "atms_reduced['Tipo dispositivo'].unique()"
   ]
  },
  {
   "cell_type": "code",
   "execution_count": 43,
   "metadata": {},
   "outputs": [
    {
     "data": {
      "text/plain": [
       "DISPENSADOR    7957\n",
       "PRACTDUAL      5810\n",
       "AUTOBANCO        15\n",
       "Name: Tipo dispositivo, dtype: int64"
      ]
     },
     "execution_count": 43,
     "metadata": {},
     "output_type": "execute_result"
    }
   ],
   "source": [
    "atms_reduced['Tipo dispositivo'].value_counts()"
   ]
  },
  {
   "cell_type": "code",
   "execution_count": 44,
   "metadata": {},
   "outputs": [
    {
     "data": {
      "text/html": [
       "<div>\n",
       "<style scoped>\n",
       "    .dataframe tbody tr th:only-of-type {\n",
       "        vertical-align: middle;\n",
       "    }\n",
       "\n",
       "    .dataframe tbody tr th {\n",
       "        vertical-align: top;\n",
       "    }\n",
       "\n",
       "    .dataframe thead th {\n",
       "        text-align: right;\n",
       "    }\n",
       "</style>\n",
       "<table border=\"1\" class=\"dataframe\">\n",
       "  <thead>\n",
       "    <tr style=\"text-align: right;\">\n",
       "      <th></th>\n",
       "      <th>ATM</th>\n",
       "      <th>Latitud</th>\n",
       "      <th>Longitud</th>\n",
       "      <th>Tipo dispositivo</th>\n",
       "      <th>ETV</th>\n",
       "    </tr>\n",
       "  </thead>\n",
       "  <tbody>\n",
       "    <tr>\n",
       "      <th>0</th>\n",
       "      <td>2</td>\n",
       "      <td>19.388584</td>\n",
       "      <td>-99.247905</td>\n",
       "      <td>DISPENSADOR</td>\n",
       "      <td>APODERADO</td>\n",
       "    </tr>\n",
       "    <tr>\n",
       "      <th>1</th>\n",
       "      <td>4</td>\n",
       "      <td>24.807033</td>\n",
       "      <td>-107.394186</td>\n",
       "      <td>DISPENSADOR</td>\n",
       "      <td>SEPSA</td>\n",
       "    </tr>\n",
       "  </tbody>\n",
       "</table>\n",
       "</div>"
      ],
      "text/plain": [
       "  ATM    Latitud    Longitud Tipo dispositivo        ETV\n",
       "0   2  19.388584  -99.247905      DISPENSADOR  APODERADO\n",
       "1   4  24.807033 -107.394186      DISPENSADOR      SEPSA"
      ]
     },
     "execution_count": 44,
     "metadata": {},
     "output_type": "execute_result"
    }
   ],
   "source": [
    "atms_dispensador = atms_reduced[atms_reduced['Tipo dispositivo'] == \"DISPENSADOR\"]\n",
    "atms_dispensador.head(2)"
   ]
  },
  {
   "cell_type": "code",
   "execution_count": 45,
   "metadata": {},
   "outputs": [
    {
     "name": "stdout",
     "output_type": "stream",
     "text": [
      "<class 'pandas.core.frame.DataFrame'>\n",
      "Int64Index: 7957 entries, 0 to 13753\n",
      "Data columns (total 5 columns):\n",
      " #   Column            Non-Null Count  Dtype  \n",
      "---  ------            --------------  -----  \n",
      " 0   ATM               7957 non-null   object \n",
      " 1   Latitud           7957 non-null   float64\n",
      " 2   Longitud          7957 non-null   float64\n",
      " 3   Tipo dispositivo  7957 non-null   object \n",
      " 4   ETV               7957 non-null   object \n",
      "dtypes: float64(2), object(3)\n",
      "memory usage: 373.0+ KB\n"
     ]
    }
   ],
   "source": [
    "atms_dispensador.info()"
   ]
  },
  {
   "cell_type": "code",
   "execution_count": 47,
   "metadata": {},
   "outputs": [],
   "source": [
    "atms_dispensador.to_csv(\"atms_dispensador.csv\")"
   ]
  },
  {
   "cell_type": "code",
   "execution_count": 46,
   "metadata": {},
   "outputs": [
    {
     "data": {
      "text/html": [
       "<div>\n",
       "<style scoped>\n",
       "    .dataframe tbody tr th:only-of-type {\n",
       "        vertical-align: middle;\n",
       "    }\n",
       "\n",
       "    .dataframe tbody tr th {\n",
       "        vertical-align: top;\n",
       "    }\n",
       "\n",
       "    .dataframe thead th {\n",
       "        text-align: right;\n",
       "    }\n",
       "</style>\n",
       "<table border=\"1\" class=\"dataframe\">\n",
       "  <thead>\n",
       "    <tr style=\"text-align: right;\">\n",
       "      <th></th>\n",
       "      <th>ATM</th>\n",
       "      <th>Latitud</th>\n",
       "      <th>Longitud</th>\n",
       "      <th>Tipo dispositivo</th>\n",
       "      <th>ETV</th>\n",
       "    </tr>\n",
       "  </thead>\n",
       "  <tbody>\n",
       "    <tr>\n",
       "      <th>5</th>\n",
       "      <td>8</td>\n",
       "      <td>19.383824</td>\n",
       "      <td>-99.068527</td>\n",
       "      <td>PRACTDUAL</td>\n",
       "      <td>APODERADO</td>\n",
       "    </tr>\n",
       "    <tr>\n",
       "      <th>11</th>\n",
       "      <td>15</td>\n",
       "      <td>19.435826</td>\n",
       "      <td>-99.188154</td>\n",
       "      <td>PRACTDUAL</td>\n",
       "      <td>APODERADO</td>\n",
       "    </tr>\n",
       "    <tr>\n",
       "      <th>16</th>\n",
       "      <td>21</td>\n",
       "      <td>19.470169</td>\n",
       "      <td>-99.131715</td>\n",
       "      <td>PRACTDUAL</td>\n",
       "      <td>APODERADO</td>\n",
       "    </tr>\n",
       "    <tr>\n",
       "      <th>61</th>\n",
       "      <td>71</td>\n",
       "      <td>19.562264</td>\n",
       "      <td>-99.244112</td>\n",
       "      <td>PRACTDUAL</td>\n",
       "      <td>APODERADO</td>\n",
       "    </tr>\n",
       "    <tr>\n",
       "      <th>107</th>\n",
       "      <td>119</td>\n",
       "      <td>19.562264</td>\n",
       "      <td>-99.244112</td>\n",
       "      <td>PRACTDUAL</td>\n",
       "      <td>APODERADO</td>\n",
       "    </tr>\n",
       "    <tr>\n",
       "      <th>...</th>\n",
       "      <td>...</td>\n",
       "      <td>...</td>\n",
       "      <td>...</td>\n",
       "      <td>...</td>\n",
       "      <td>...</td>\n",
       "    </tr>\n",
       "    <tr>\n",
       "      <th>13777</th>\n",
       "      <td>E995</td>\n",
       "      <td>19.414688</td>\n",
       "      <td>-99.149285</td>\n",
       "      <td>PRACTDUAL</td>\n",
       "      <td>APODERADO</td>\n",
       "    </tr>\n",
       "    <tr>\n",
       "      <th>13778</th>\n",
       "      <td>E996</td>\n",
       "      <td>19.815443</td>\n",
       "      <td>-97.360568</td>\n",
       "      <td>PRACTDUAL</td>\n",
       "      <td>APODERADO</td>\n",
       "    </tr>\n",
       "    <tr>\n",
       "      <th>13779</th>\n",
       "      <td>E997</td>\n",
       "      <td>20.075351</td>\n",
       "      <td>-98.384862</td>\n",
       "      <td>PRACTDUAL</td>\n",
       "      <td>APODERADO</td>\n",
       "    </tr>\n",
       "    <tr>\n",
       "      <th>13780</th>\n",
       "      <td>E998</td>\n",
       "      <td>20.798145</td>\n",
       "      <td>-103.477212</td>\n",
       "      <td>PRACTDUAL</td>\n",
       "      <td>APODERADO</td>\n",
       "    </tr>\n",
       "    <tr>\n",
       "      <th>13781</th>\n",
       "      <td>E999</td>\n",
       "      <td>19.334578</td>\n",
       "      <td>-99.569324</td>\n",
       "      <td>PRACTDUAL</td>\n",
       "      <td>APODERADO</td>\n",
       "    </tr>\n",
       "  </tbody>\n",
       "</table>\n",
       "<p>5810 rows × 5 columns</p>\n",
       "</div>"
      ],
      "text/plain": [
       "        ATM    Latitud    Longitud Tipo dispositivo        ETV\n",
       "5         8  19.383824  -99.068527        PRACTDUAL  APODERADO\n",
       "11       15  19.435826  -99.188154        PRACTDUAL  APODERADO\n",
       "16       21  19.470169  -99.131715        PRACTDUAL  APODERADO\n",
       "61       71  19.562264  -99.244112        PRACTDUAL  APODERADO\n",
       "107     119  19.562264  -99.244112        PRACTDUAL  APODERADO\n",
       "...     ...        ...         ...              ...        ...\n",
       "13777  E995  19.414688  -99.149285        PRACTDUAL  APODERADO\n",
       "13778  E996  19.815443  -97.360568        PRACTDUAL  APODERADO\n",
       "13779  E997  20.075351  -98.384862        PRACTDUAL  APODERADO\n",
       "13780  E998  20.798145 -103.477212        PRACTDUAL  APODERADO\n",
       "13781  E999  19.334578  -99.569324        PRACTDUAL  APODERADO\n",
       "\n",
       "[5810 rows x 5 columns]"
      ]
     },
     "execution_count": 46,
     "metadata": {},
     "output_type": "execute_result"
    }
   ],
   "source": [
    "atms_practicaja = atms_reduced[atms_reduced['Tipo dispositivo'] == \"PRACTDUAL\"]\n",
    "atms_practicaja"
   ]
  },
  {
   "cell_type": "code",
   "execution_count": 48,
   "metadata": {},
   "outputs": [],
   "source": [
    "atms_practicaja.to_csv(\"atms_practicaja.csv\")"
   ]
  },
  {
   "cell_type": "code",
   "execution_count": 49,
   "metadata": {},
   "outputs": [
    {
     "data": {
      "text/plain": [
       "Index(['ATM_ID', 'SITIO', 'division', 'TIPO_SITIO', 'MARCA_MODELO', 'FALLA',\n",
       "       'FECHA_INICIO', 'FECHA_FIN', 'DURACION', 'IMPACTO', 'TICKET_KEY',\n",
       "       'ESTADO', 'CR', 'AUTOSERVICIO', 'NAME', 'faultid', 'generacion'],\n",
       "      dtype='object')"
      ]
     },
     "execution_count": 49,
     "metadata": {},
     "output_type": "execute_result"
    }
   ],
   "source": [
    "issues_raw.columns"
   ]
  },
  {
   "cell_type": "code",
   "execution_count": 51,
   "metadata": {},
   "outputs": [],
   "source": [
    "issues_reduced = issues_raw[[\"ATM_ID\", \"FALLA\", \"DURACION\"]]"
   ]
  },
  {
   "cell_type": "code",
   "execution_count": 55,
   "metadata": {},
   "outputs": [],
   "source": [
    "issues_densidad = pd.merge(left=issues_reduced, right=atms_reduced, left_on=\"ATM_ID\", right_on=\"ATM\").sort_values(by=\"DURACION\", ascending=False)"
   ]
  },
  {
   "cell_type": "code",
   "execution_count": 56,
   "metadata": {},
   "outputs": [],
   "source": [
    "issues_densidad.to_csv(\"issues_densidad.csv\")"
   ]
  },
  {
   "cell_type": "code",
   "execution_count": 70,
   "metadata": {},
   "outputs": [
    {
     "data": {
      "text/plain": [
       "array(['APODERADO', 'SEPSA', 'Apoderado'], dtype=object)"
      ]
     },
     "execution_count": 70,
     "metadata": {},
     "output_type": "execute_result"
    }
   ],
   "source": [
    "atms_reduced[\"ETV\"].unique()"
   ]
  },
  {
   "cell_type": "code",
   "execution_count": 72,
   "metadata": {},
   "outputs": [
    {
     "name": "stderr",
     "output_type": "stream",
     "text": [
      "/tmp/ipykernel_1475/3934774105.py:1: SettingWithCopyWarning: \n",
      "A value is trying to be set on a copy of a slice from a DataFrame.\n",
      "Try using .loc[row_indexer,col_indexer] = value instead\n",
      "\n",
      "See the caveats in the documentation: https://pandas.pydata.org/pandas-docs/stable/user_guide/indexing.html#returning-a-view-versus-a-copy\n",
      "  atms_reduced[\"ETV\"] = atms_reduced[\"ETV\"].str.upper()\n"
     ]
    },
    {
     "data": {
      "text/html": [
       "<div>\n",
       "<style scoped>\n",
       "    .dataframe tbody tr th:only-of-type {\n",
       "        vertical-align: middle;\n",
       "    }\n",
       "\n",
       "    .dataframe tbody tr th {\n",
       "        vertical-align: top;\n",
       "    }\n",
       "\n",
       "    .dataframe thead th {\n",
       "        text-align: right;\n",
       "    }\n",
       "</style>\n",
       "<table border=\"1\" class=\"dataframe\">\n",
       "  <thead>\n",
       "    <tr style=\"text-align: right;\">\n",
       "      <th></th>\n",
       "      <th>ATM</th>\n",
       "      <th>Latitud</th>\n",
       "      <th>Longitud</th>\n",
       "      <th>Tipo dispositivo</th>\n",
       "      <th>ETV</th>\n",
       "    </tr>\n",
       "  </thead>\n",
       "  <tbody>\n",
       "    <tr>\n",
       "      <th>0</th>\n",
       "      <td>2</td>\n",
       "      <td>19.388584</td>\n",
       "      <td>-99.247905</td>\n",
       "      <td>DISPENSADOR</td>\n",
       "      <td>APODERADO</td>\n",
       "    </tr>\n",
       "    <tr>\n",
       "      <th>1</th>\n",
       "      <td>4</td>\n",
       "      <td>24.807033</td>\n",
       "      <td>-107.394186</td>\n",
       "      <td>DISPENSADOR</td>\n",
       "      <td>SEPSA</td>\n",
       "    </tr>\n",
       "    <tr>\n",
       "      <th>2</th>\n",
       "      <td>5</td>\n",
       "      <td>19.549311</td>\n",
       "      <td>-99.017075</td>\n",
       "      <td>DISPENSADOR</td>\n",
       "      <td>SEPSA</td>\n",
       "    </tr>\n",
       "    <tr>\n",
       "      <th>3</th>\n",
       "      <td>6</td>\n",
       "      <td>21.341352</td>\n",
       "      <td>-97.681943</td>\n",
       "      <td>DISPENSADOR</td>\n",
       "      <td>SEPSA</td>\n",
       "    </tr>\n",
       "    <tr>\n",
       "      <th>4</th>\n",
       "      <td>7</td>\n",
       "      <td>22.149782</td>\n",
       "      <td>-101.000492</td>\n",
       "      <td>DISPENSADOR</td>\n",
       "      <td>SEPSA</td>\n",
       "    </tr>\n",
       "    <tr>\n",
       "      <th>...</th>\n",
       "      <td>...</td>\n",
       "      <td>...</td>\n",
       "      <td>...</td>\n",
       "      <td>...</td>\n",
       "      <td>...</td>\n",
       "    </tr>\n",
       "    <tr>\n",
       "      <th>13777</th>\n",
       "      <td>E995</td>\n",
       "      <td>19.414688</td>\n",
       "      <td>-99.149285</td>\n",
       "      <td>PRACTDUAL</td>\n",
       "      <td>APODERADO</td>\n",
       "    </tr>\n",
       "    <tr>\n",
       "      <th>13778</th>\n",
       "      <td>E996</td>\n",
       "      <td>19.815443</td>\n",
       "      <td>-97.360568</td>\n",
       "      <td>PRACTDUAL</td>\n",
       "      <td>APODERADO</td>\n",
       "    </tr>\n",
       "    <tr>\n",
       "      <th>13779</th>\n",
       "      <td>E997</td>\n",
       "      <td>20.075351</td>\n",
       "      <td>-98.384862</td>\n",
       "      <td>PRACTDUAL</td>\n",
       "      <td>APODERADO</td>\n",
       "    </tr>\n",
       "    <tr>\n",
       "      <th>13780</th>\n",
       "      <td>E998</td>\n",
       "      <td>20.798145</td>\n",
       "      <td>-103.477212</td>\n",
       "      <td>PRACTDUAL</td>\n",
       "      <td>APODERADO</td>\n",
       "    </tr>\n",
       "    <tr>\n",
       "      <th>13781</th>\n",
       "      <td>E999</td>\n",
       "      <td>19.334578</td>\n",
       "      <td>-99.569324</td>\n",
       "      <td>PRACTDUAL</td>\n",
       "      <td>APODERADO</td>\n",
       "    </tr>\n",
       "  </tbody>\n",
       "</table>\n",
       "<p>13782 rows × 5 columns</p>\n",
       "</div>"
      ],
      "text/plain": [
       "        ATM    Latitud    Longitud Tipo dispositivo        ETV\n",
       "0         2  19.388584  -99.247905      DISPENSADOR  APODERADO\n",
       "1         4  24.807033 -107.394186      DISPENSADOR      SEPSA\n",
       "2         5  19.549311  -99.017075      DISPENSADOR      SEPSA\n",
       "3         6  21.341352  -97.681943      DISPENSADOR      SEPSA\n",
       "4         7  22.149782 -101.000492      DISPENSADOR      SEPSA\n",
       "...     ...        ...         ...              ...        ...\n",
       "13777  E995  19.414688  -99.149285        PRACTDUAL  APODERADO\n",
       "13778  E996  19.815443  -97.360568        PRACTDUAL  APODERADO\n",
       "13779  E997  20.075351  -98.384862        PRACTDUAL  APODERADO\n",
       "13780  E998  20.798145 -103.477212        PRACTDUAL  APODERADO\n",
       "13781  E999  19.334578  -99.569324        PRACTDUAL  APODERADO\n",
       "\n",
       "[13782 rows x 5 columns]"
      ]
     },
     "execution_count": 72,
     "metadata": {},
     "output_type": "execute_result"
    }
   ],
   "source": [
    "atms_reduced[\"ETV\"] = atms_reduced[\"ETV\"].str.upper()\n",
    "atms_reduced "
   ]
  },
  {
   "cell_type": "code",
   "execution_count": 74,
   "metadata": {},
   "outputs": [
    {
     "data": {
      "text/plain": [
       "array(['APODERADO', 'SEPSA'], dtype=object)"
      ]
     },
     "execution_count": 74,
     "metadata": {},
     "output_type": "execute_result"
    }
   ],
   "source": [
    "atms_reduced[\"ETV\"].unique()"
   ]
  },
  {
   "cell_type": "code",
   "execution_count": 75,
   "metadata": {},
   "outputs": [
    {
     "data": {
      "text/html": [
       "<div>\n",
       "<style scoped>\n",
       "    .dataframe tbody tr th:only-of-type {\n",
       "        vertical-align: middle;\n",
       "    }\n",
       "\n",
       "    .dataframe tbody tr th {\n",
       "        vertical-align: top;\n",
       "    }\n",
       "\n",
       "    .dataframe thead th {\n",
       "        text-align: right;\n",
       "    }\n",
       "</style>\n",
       "<table border=\"1\" class=\"dataframe\">\n",
       "  <thead>\n",
       "    <tr style=\"text-align: right;\">\n",
       "      <th></th>\n",
       "      <th>ATM</th>\n",
       "      <th>Latitud</th>\n",
       "      <th>Longitud</th>\n",
       "      <th>Tipo dispositivo</th>\n",
       "      <th>ETV</th>\n",
       "    </tr>\n",
       "  </thead>\n",
       "  <tbody>\n",
       "    <tr>\n",
       "      <th>0</th>\n",
       "      <td>2</td>\n",
       "      <td>19.388584</td>\n",
       "      <td>-99.247905</td>\n",
       "      <td>DISPENSADOR</td>\n",
       "      <td>APODERADO</td>\n",
       "    </tr>\n",
       "    <tr>\n",
       "      <th>5</th>\n",
       "      <td>8</td>\n",
       "      <td>19.383824</td>\n",
       "      <td>-99.068527</td>\n",
       "      <td>PRACTDUAL</td>\n",
       "      <td>APODERADO</td>\n",
       "    </tr>\n",
       "  </tbody>\n",
       "</table>\n",
       "</div>"
      ],
      "text/plain": [
       "  ATM    Latitud   Longitud Tipo dispositivo        ETV\n",
       "0   2  19.388584 -99.247905      DISPENSADOR  APODERADO\n",
       "5   8  19.383824 -99.068527        PRACTDUAL  APODERADO"
      ]
     },
     "execution_count": 75,
     "metadata": {},
     "output_type": "execute_result"
    }
   ],
   "source": [
    "atms_apoderado = atms_reduced[atms_reduced[\"ETV\"] == \"APODERADO\"]\n",
    "atms_apoderado.head(2)"
   ]
  },
  {
   "cell_type": "code",
   "execution_count": 76,
   "metadata": {},
   "outputs": [],
   "source": [
    "atms_apoderado.to_csv(\"atms_apoderado.csv\")"
   ]
  },
  {
   "cell_type": "code",
   "execution_count": 77,
   "metadata": {},
   "outputs": [
    {
     "data": {
      "text/html": [
       "<div>\n",
       "<style scoped>\n",
       "    .dataframe tbody tr th:only-of-type {\n",
       "        vertical-align: middle;\n",
       "    }\n",
       "\n",
       "    .dataframe tbody tr th {\n",
       "        vertical-align: top;\n",
       "    }\n",
       "\n",
       "    .dataframe thead th {\n",
       "        text-align: right;\n",
       "    }\n",
       "</style>\n",
       "<table border=\"1\" class=\"dataframe\">\n",
       "  <thead>\n",
       "    <tr style=\"text-align: right;\">\n",
       "      <th></th>\n",
       "      <th>ATM</th>\n",
       "      <th>Latitud</th>\n",
       "      <th>Longitud</th>\n",
       "      <th>Tipo dispositivo</th>\n",
       "      <th>ETV</th>\n",
       "    </tr>\n",
       "  </thead>\n",
       "  <tbody>\n",
       "    <tr>\n",
       "      <th>1</th>\n",
       "      <td>4</td>\n",
       "      <td>24.807033</td>\n",
       "      <td>-107.394186</td>\n",
       "      <td>DISPENSADOR</td>\n",
       "      <td>SEPSA</td>\n",
       "    </tr>\n",
       "    <tr>\n",
       "      <th>2</th>\n",
       "      <td>5</td>\n",
       "      <td>19.549311</td>\n",
       "      <td>-99.017075</td>\n",
       "      <td>DISPENSADOR</td>\n",
       "      <td>SEPSA</td>\n",
       "    </tr>\n",
       "  </tbody>\n",
       "</table>\n",
       "</div>"
      ],
      "text/plain": [
       "  ATM    Latitud    Longitud Tipo dispositivo    ETV\n",
       "1   4  24.807033 -107.394186      DISPENSADOR  SEPSA\n",
       "2   5  19.549311  -99.017075      DISPENSADOR  SEPSA"
      ]
     },
     "execution_count": 77,
     "metadata": {},
     "output_type": "execute_result"
    }
   ],
   "source": [
    "atms_NoApoderado = atms_reduced[atms_reduced[\"ETV\"] == \"SEPSA\"]\n",
    "atms_NoApoderado.head(2)"
   ]
  },
  {
   "cell_type": "code",
   "execution_count": 78,
   "metadata": {},
   "outputs": [],
   "source": [
    "atms_NoApoderado.to_csv(\"atms_NoApoderado.csv\")"
   ]
  },
  {
   "cell_type": "markdown",
   "metadata": {},
   "source": [
    "Dataset con ranking de falla por ATM"
   ]
  },
  {
   "cell_type": "code",
   "execution_count": 95,
   "metadata": {},
   "outputs": [
    {
     "data": {
      "text/plain": [
       "DURACION    12532\n",
       "Latitud     12532\n",
       "Longitud    12532\n",
       "dtype: int64"
      ]
     },
     "execution_count": 95,
     "metadata": {},
     "output_type": "execute_result"
    }
   ],
   "source": [
    "atms_allrank = issues_densidad.groupby(by=\"ATM_ID\").median(\"DURACION\").sort_values(by=\"DURACION\", ascending=False)\n",
    "atms_allrank.count()"
   ]
  },
  {
   "cell_type": "code",
   "execution_count": 96,
   "metadata": {},
   "outputs": [
    {
     "data": {
      "text/plain": [
       "DURACION    9523\n",
       "Latitud     9523\n",
       "Longitud    9523\n",
       "dtype: int64"
      ]
     },
     "execution_count": 96,
     "metadata": {},
     "output_type": "execute_result"
    }
   ],
   "source": [
    "atms_estables = atms_allrank[atms_allrank[\"DURACION\"]<1.0]\n",
    "atms_estables.count()"
   ]
  },
  {
   "cell_type": "code",
   "execution_count": 103,
   "metadata": {},
   "outputs": [
    {
     "data": {
      "text/plain": [
       "DURACION    2993\n",
       "Latitud     2993\n",
       "Longitud    2993\n",
       "dtype: int64"
      ]
     },
     "execution_count": 103,
     "metadata": {},
     "output_type": "execute_result"
    }
   ],
   "source": [
    "compound_mask = (atms_allrank[\"DURACION\"] >= 1.0) & (atms_allrank[\"DURACION\"] <48.0)\n",
    "atms_riesgosos = atms_allrank.loc[compound_mask]\n",
    "atms_riesgosos.count()"
   ]
  },
  {
   "cell_type": "code",
   "execution_count": 104,
   "metadata": {},
   "outputs": [
    {
     "data": {
      "text/plain": [
       "DURACION    16\n",
       "Latitud     16\n",
       "Longitud    16\n",
       "dtype: int64"
      ]
     },
     "execution_count": 104,
     "metadata": {},
     "output_type": "execute_result"
    }
   ],
   "source": [
    "atms_fatales = atms_allrank.loc[atms_allrank[\"DURACION\"] >= 48.0]\n",
    "atms_fatales.count()"
   ]
  },
  {
   "cell_type": "code",
   "execution_count": 105,
   "metadata": {},
   "outputs": [],
   "source": [
    "atms_estables.to_csv(\"atms_estables.csv\")\n",
    "atms_riesgosos.to_csv(\"atms_riesgosos.csv\")\n",
    "atms_fatales.to_csv(\"atms_fatales.csv\")"
   ]
  }
 ],
 "metadata": {
  "kernelspec": {
   "display_name": "Python 3.8.10 ('venv': venv)",
   "language": "python",
   "name": "python3"
  },
  "language_info": {
   "codemirror_mode": {
    "name": "ipython",
    "version": 3
   },
   "file_extension": ".py",
   "mimetype": "text/x-python",
   "name": "python",
   "nbconvert_exporter": "python",
   "pygments_lexer": "ipython3",
   "version": "3.8.10"
  },
  "orig_nbformat": 4,
  "vscode": {
   "interpreter": {
    "hash": "6774ad4f8edfeed334cd41807c38eb26e4ebb0a3de7ff128b640565760f36a1e"
   }
  }
 },
 "nbformat": 4,
 "nbformat_minor": 2
}
