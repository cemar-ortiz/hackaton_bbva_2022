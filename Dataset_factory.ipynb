{
 "cells": [
  {
   "cell_type": "markdown",
   "metadata": {},
   "source": [
    "# Dataset factory"
   ]
  },
  {
   "cell_type": "markdown",
   "metadata": {},
   "source": [
    "Objetivo: crear un dataset \"rellenado\" de estados de los cajeros encodeado por estatus (verde = disponible, rojo = no disponible).\n",
    "\n",
    "algo así:\n",
    "\n",
    "\n",
    "| ATM_ID            | fecha (dia)   | status | nombre_indisponibilidad | status_encodeado\n",
    "|-------------------|-------------|---------------|---------------|---------------|\n",
    "| 1   | 22-10-22    | rojo           | RA1 Power Failure | -1 |\n",
    "| 1       | 24-10-22       | rojo             | RA1 Power Failure | -1 | \n",
    "| 1         | 25-10-22  | verde            | None | 1 |\n",
    "| 1         | 27-10-22  | verde            | None | 1 |\n",
    "| 1         | 28-10-22  | naranja           | Advertencia | 0 |  \n",
    "| 1         | 30-10-22  | rojo            | RA1 Power Failure | -1 |\n",
    "\n",
    "Otras columnas que vale la pena conservar/mapear para poder usarlo en el dashboard:\n",
    "\n",
    "- tipo de dispositivo (atms_raw) [x]\n",
    "- tipo_sitio \"SUC\" o \"REM\" (atms_raw o issues_raw) [x] \n",
    "- latitud (atms_raw) [x]\n",
    "- longitud (atms_raw) [x]\n",
    "\n",
    "Incluir solo fallas que hayan durado más de un día y menos de 1 mes (Antes de limpiar, graficar por año para tener idea de los outliers que hay)"
   ]
  },
  {
   "cell_type": "code",
   "execution_count": 2,
   "metadata": {},
   "outputs": [],
   "source": [
    "import pandas as pd"
   ]
  },
  {
   "cell_type": "code",
   "execution_count": 3,
   "metadata": {},
   "outputs": [],
   "source": [
    "issues_raw = pd.read_csv(\"data_hackaton/issues-raw.csv\", sep=\";\", decimal=\",\")"
   ]
  },
  {
   "cell_type": "markdown",
   "metadata": {},
   "source": [
    "Escoger de las columnas disponibles, solo las que nos interesan, enfocarnos primero en el dataset de issues"
   ]
  },
  {
   "cell_type": "code",
   "execution_count": 4,
   "metadata": {},
   "outputs": [
    {
     "name": "stdout",
     "output_type": "stream",
     "text": [
      "Index(['ATM_ID', 'SITIO', 'division', 'TIPO_SITIO', 'MARCA_MODELO', 'FALLA',\n",
      "       'FECHA_INICIO', 'FECHA_FIN', 'DURACION', 'IMPACTO', 'TICKET_KEY',\n",
      "       'ESTADO', 'CR', 'AUTOSERVICIO', 'NAME', 'faultid', 'generacion'],\n",
      "      dtype='object')\n"
     ]
    }
   ],
   "source": [
    "print(issues_raw.columns)"
   ]
  },
  {
   "cell_type": "code",
   "execution_count": 5,
   "metadata": {},
   "outputs": [
    {
     "data": {
      "text/html": [
       "<div>\n",
       "<style scoped>\n",
       "    .dataframe tbody tr th:only-of-type {\n",
       "        vertical-align: middle;\n",
       "    }\n",
       "\n",
       "    .dataframe tbody tr th {\n",
       "        vertical-align: top;\n",
       "    }\n",
       "\n",
       "    .dataframe thead th {\n",
       "        text-align: right;\n",
       "    }\n",
       "</style>\n",
       "<table border=\"1\" class=\"dataframe\">\n",
       "  <thead>\n",
       "    <tr style=\"text-align: right;\">\n",
       "      <th></th>\n",
       "      <th>ATM_ID</th>\n",
       "      <th>FECHA_INICIO</th>\n",
       "      <th>FECHA_FIN</th>\n",
       "      <th>FALLA</th>\n",
       "      <th>TIPO_SITIO</th>\n",
       "    </tr>\n",
       "  </thead>\n",
       "  <tbody>\n",
       "    <tr>\n",
       "      <th>0</th>\n",
       "      <td>1131</td>\n",
       "      <td>23/8/22 12:17</td>\n",
       "      <td>23/8/22 12:46</td>\n",
       "      <td>P2F C Reset por Telecontrol</td>\n",
       "      <td>REM</td>\n",
       "    </tr>\n",
       "    <tr>\n",
       "      <th>1</th>\n",
       "      <td>2464</td>\n",
       "      <td>23/8/22 12:20</td>\n",
       "      <td>23/8/22 12:49</td>\n",
       "      <td>RA1 Power Failure</td>\n",
       "      <td>REM</td>\n",
       "    </tr>\n",
       "  </tbody>\n",
       "</table>\n",
       "</div>"
      ],
      "text/plain": [
       "  ATM_ID   FECHA_INICIO      FECHA_FIN                        FALLA TIPO_SITIO\n",
       "0   1131  23/8/22 12:17  23/8/22 12:46  P2F C Reset por Telecontrol        REM\n",
       "1   2464  23/8/22 12:20  23/8/22 12:49            RA1 Power Failure        REM"
      ]
     },
     "execution_count": 5,
     "metadata": {},
     "output_type": "execute_result"
    }
   ],
   "source": [
    "issues_cooked = issues_raw[['ATM_ID', 'FECHA_INICIO', 'FECHA_FIN', 'FALLA', 'TIPO_SITIO']]\n",
    "issues_cooked.head(2)"
   ]
  },
  {
   "cell_type": "markdown",
   "metadata": {},
   "source": [
    "Obtener una muestra de una serie para un solo cajero, como prueba del algoritmo"
   ]
  },
  {
   "cell_type": "code",
   "execution_count": 6,
   "metadata": {},
   "outputs": [
    {
     "data": {
      "text/plain": [
       "448     376\n",
       "E901    250\n",
       "5328    241\n",
       "8431    211\n",
       "5276    195\n",
       "       ... \n",
       "A516      1\n",
       "8698      1\n",
       "9582      1\n",
       "C263      1\n",
       "5037      1\n",
       "Name: ATM_ID, Length: 12533, dtype: int64"
      ]
     },
     "execution_count": 6,
     "metadata": {},
     "output_type": "execute_result"
    }
   ],
   "source": [
    "issues_cooked['ATM_ID'].value_counts()"
   ]
  },
  {
   "cell_type": "markdown",
   "metadata": {},
   "source": [
    "El cajero 448 es el que tiene más ocurrencias, hay algunos en el set que solo tienen un registro de falla, **probablemente sea inteligente filtrar los cajeros con bajas ocurrencias de fallas**. Por ahora escogeré el cajero 448 como sujeto de prueba"
   ]
  },
  {
   "cell_type": "code",
   "execution_count": 7,
   "metadata": {},
   "outputs": [
    {
     "data": {
      "text/html": [
       "<div>\n",
       "<style scoped>\n",
       "    .dataframe tbody tr th:only-of-type {\n",
       "        vertical-align: middle;\n",
       "    }\n",
       "\n",
       "    .dataframe tbody tr th {\n",
       "        vertical-align: top;\n",
       "    }\n",
       "\n",
       "    .dataframe thead th {\n",
       "        text-align: right;\n",
       "    }\n",
       "</style>\n",
       "<table border=\"1\" class=\"dataframe\">\n",
       "  <thead>\n",
       "    <tr style=\"text-align: right;\">\n",
       "      <th></th>\n",
       "      <th>ATM_ID</th>\n",
       "      <th>FECHA_INICIO</th>\n",
       "      <th>FECHA_FIN</th>\n",
       "      <th>FALLA</th>\n",
       "      <th>TIPO_SITIO</th>\n",
       "    </tr>\n",
       "  </thead>\n",
       "  <tbody>\n",
       "    <tr>\n",
       "      <th>30972</th>\n",
       "      <td>448</td>\n",
       "      <td>20/8/22 01:19</td>\n",
       "      <td>20/8/22 01:41</td>\n",
       "      <td>Fuera de Sesion RA1                           ...</td>\n",
       "      <td>REM</td>\n",
       "    </tr>\n",
       "    <tr>\n",
       "      <th>34207</th>\n",
       "      <td>448</td>\n",
       "      <td>12/8/22 08:00</td>\n",
       "      <td>12/8/22 08:03</td>\n",
       "      <td>Fuera de sesion (atn mto tec)</td>\n",
       "      <td>REM</td>\n",
       "    </tr>\n",
       "  </tbody>\n",
       "</table>\n",
       "</div>"
      ],
      "text/plain": [
       "      ATM_ID   FECHA_INICIO      FECHA_FIN  \\\n",
       "30972    448  20/8/22 01:19  20/8/22 01:41   \n",
       "34207    448  12/8/22 08:00  12/8/22 08:03   \n",
       "\n",
       "                                                   FALLA TIPO_SITIO  \n",
       "30972  Fuera de Sesion RA1                           ...        REM  \n",
       "34207                      Fuera de sesion (atn mto tec)        REM  "
      ]
     },
     "execution_count": 7,
     "metadata": {},
     "output_type": "execute_result"
    }
   ],
   "source": [
    "sample_issues = issues_cooked[issues_cooked['ATM_ID'] == \"448\"].copy()\n",
    "sample_issues.head(2)"
   ]
  },
  {
   "cell_type": "markdown",
   "metadata": {},
   "source": [
    "Listo, con el cajero aislado ahora puedo hacer un ordenamiento por fecha de inicio, sería imposible que un cajero reportara una falla antes de que se haya resuelto la anterior"
   ]
  },
  {
   "cell_type": "code",
   "execution_count": 13,
   "metadata": {},
   "outputs": [
    {
     "data": {
      "text/html": [
       "<div>\n",
       "<style scoped>\n",
       "    .dataframe tbody tr th:only-of-type {\n",
       "        vertical-align: middle;\n",
       "    }\n",
       "\n",
       "    .dataframe tbody tr th {\n",
       "        vertical-align: top;\n",
       "    }\n",
       "\n",
       "    .dataframe thead th {\n",
       "        text-align: right;\n",
       "    }\n",
       "</style>\n",
       "<table border=\"1\" class=\"dataframe\">\n",
       "  <thead>\n",
       "    <tr style=\"text-align: right;\">\n",
       "      <th></th>\n",
       "      <th>ATM_ID</th>\n",
       "      <th>FECHA_INICIO</th>\n",
       "      <th>FECHA_FIN</th>\n",
       "      <th>FALLA</th>\n",
       "      <th>TIPO_SITIO</th>\n",
       "    </tr>\n",
       "  </thead>\n",
       "  <tbody>\n",
       "    <tr>\n",
       "      <th>45995</th>\n",
       "      <td>448</td>\n",
       "      <td>9/8/22 23:55</td>\n",
       "      <td>9/8/22 23:58</td>\n",
       "      <td>P2F 7 Falla en Comunicaciones</td>\n",
       "      <td>REM</td>\n",
       "    </tr>\n",
       "    <tr>\n",
       "      <th>45994</th>\n",
       "      <td>448</td>\n",
       "      <td>9/8/22 23:45</td>\n",
       "      <td>9/8/22 23:48</td>\n",
       "      <td>P2F 7 Falla en Comunicaciones</td>\n",
       "      <td>REM</td>\n",
       "    </tr>\n",
       "    <tr>\n",
       "      <th>45993</th>\n",
       "      <td>448</td>\n",
       "      <td>9/8/22 23:35</td>\n",
       "      <td>9/8/22 23:37</td>\n",
       "      <td>P2F 7 Falla en Comunicaciones</td>\n",
       "      <td>REM</td>\n",
       "    </tr>\n",
       "    <tr>\n",
       "      <th>45956</th>\n",
       "      <td>448</td>\n",
       "      <td>9/8/22 23:23</td>\n",
       "      <td>9/8/22 23:27</td>\n",
       "      <td>P2F 7 Falla en Comunicaciones</td>\n",
       "      <td>REM</td>\n",
       "    </tr>\n",
       "    <tr>\n",
       "      <th>45954</th>\n",
       "      <td>448</td>\n",
       "      <td>9/8/22 23:13</td>\n",
       "      <td>9/8/22 23:16</td>\n",
       "      <td>P2F 7 Falla en Comunicaciones</td>\n",
       "      <td>REM</td>\n",
       "    </tr>\n",
       "    <tr>\n",
       "      <th>...</th>\n",
       "      <td>...</td>\n",
       "      <td>...</td>\n",
       "      <td>...</td>\n",
       "      <td>...</td>\n",
       "      <td>...</td>\n",
       "    </tr>\n",
       "    <tr>\n",
       "      <th>46004</th>\n",
       "      <td>448</td>\n",
       "      <td>10/8/22 00:59</td>\n",
       "      <td>10/8/22 01:01</td>\n",
       "      <td>P2F 7 Falla en Comunicaciones</td>\n",
       "      <td>REM</td>\n",
       "    </tr>\n",
       "    <tr>\n",
       "      <th>46003</th>\n",
       "      <td>448</td>\n",
       "      <td>10/8/22 00:43</td>\n",
       "      <td>10/8/22 00:50</td>\n",
       "      <td>P2F 7 Falla en Comunicaciones</td>\n",
       "      <td>REM</td>\n",
       "    </tr>\n",
       "    <tr>\n",
       "      <th>46000</th>\n",
       "      <td>448</td>\n",
       "      <td>10/8/22 00:33</td>\n",
       "      <td>10/8/22 00:35</td>\n",
       "      <td>P2F 7 Falla en Comunicaciones</td>\n",
       "      <td>REM</td>\n",
       "    </tr>\n",
       "    <tr>\n",
       "      <th>45998</th>\n",
       "      <td>448</td>\n",
       "      <td>10/8/22 00:17</td>\n",
       "      <td>10/8/22 00:25</td>\n",
       "      <td>P2F 7 Falla en Comunicaciones</td>\n",
       "      <td>REM</td>\n",
       "    </tr>\n",
       "    <tr>\n",
       "      <th>45997</th>\n",
       "      <td>448</td>\n",
       "      <td>10/8/22 00:07</td>\n",
       "      <td>10/8/22 00:09</td>\n",
       "      <td>P2F 7 Falla en Comunicaciones</td>\n",
       "      <td>REM</td>\n",
       "    </tr>\n",
       "  </tbody>\n",
       "</table>\n",
       "<p>376 rows × 5 columns</p>\n",
       "</div>"
      ],
      "text/plain": [
       "      ATM_ID   FECHA_INICIO      FECHA_FIN                          FALLA  \\\n",
       "45995    448   9/8/22 23:55   9/8/22 23:58  P2F 7 Falla en Comunicaciones   \n",
       "45994    448   9/8/22 23:45   9/8/22 23:48  P2F 7 Falla en Comunicaciones   \n",
       "45993    448   9/8/22 23:35   9/8/22 23:37  P2F 7 Falla en Comunicaciones   \n",
       "45956    448   9/8/22 23:23   9/8/22 23:27  P2F 7 Falla en Comunicaciones   \n",
       "45954    448   9/8/22 23:13   9/8/22 23:16  P2F 7 Falla en Comunicaciones   \n",
       "...      ...            ...            ...                            ...   \n",
       "46004    448  10/8/22 00:59  10/8/22 01:01  P2F 7 Falla en Comunicaciones   \n",
       "46003    448  10/8/22 00:43  10/8/22 00:50  P2F 7 Falla en Comunicaciones   \n",
       "46000    448  10/8/22 00:33  10/8/22 00:35  P2F 7 Falla en Comunicaciones   \n",
       "45998    448  10/8/22 00:17  10/8/22 00:25  P2F 7 Falla en Comunicaciones   \n",
       "45997    448  10/8/22 00:07  10/8/22 00:09  P2F 7 Falla en Comunicaciones   \n",
       "\n",
       "      TIPO_SITIO  \n",
       "45995        REM  \n",
       "45994        REM  \n",
       "45993        REM  \n",
       "45956        REM  \n",
       "45954        REM  \n",
       "...          ...  \n",
       "46004        REM  \n",
       "46003        REM  \n",
       "46000        REM  \n",
       "45998        REM  \n",
       "45997        REM  \n",
       "\n",
       "[376 rows x 5 columns]"
      ]
     },
     "execution_count": 13,
     "metadata": {},
     "output_type": "execute_result"
    }
   ],
   "source": [
    "sample_issues.sort_values(by=\"FECHA_INICIO\", ascending=False)"
   ]
  },
  {
   "cell_type": "code",
   "execution_count": 14,
   "metadata": {},
   "outputs": [
    {
     "data": {
      "text/plain": [
       "Index(['ATM_ID', 'FECHA_INICIO', 'FECHA_FIN', 'FALLA', 'TIPO_SITIO'], dtype='object')"
      ]
     },
     "execution_count": 14,
     "metadata": {},
     "output_type": "execute_result"
    }
   ],
   "source": [
    "sample_issues.columns"
   ]
  },
  {
   "cell_type": "code",
   "execution_count": 16,
   "metadata": {},
   "outputs": [
    {
     "data": {
      "text/html": [
       "<div>\n",
       "<style scoped>\n",
       "    .dataframe tbody tr th:only-of-type {\n",
       "        vertical-align: middle;\n",
       "    }\n",
       "\n",
       "    .dataframe tbody tr th {\n",
       "        vertical-align: top;\n",
       "    }\n",
       "\n",
       "    .dataframe thead th {\n",
       "        text-align: right;\n",
       "    }\n",
       "</style>\n",
       "<table border=\"1\" class=\"dataframe\">\n",
       "  <thead>\n",
       "    <tr style=\"text-align: right;\">\n",
       "      <th></th>\n",
       "      <th>ATM_ID</th>\n",
       "      <th>FALLA</th>\n",
       "      <th>TIPO_SITIO</th>\n",
       "      <th>TIPO_FECHA</th>\n",
       "      <th>TIMESTAMP</th>\n",
       "    </tr>\n",
       "  </thead>\n",
       "  <tbody>\n",
       "    <tr>\n",
       "      <th>522</th>\n",
       "      <td>448</td>\n",
       "      <td>P2F 7 Falla en Comunicaciones</td>\n",
       "      <td>REM</td>\n",
       "      <td>FECHA_FIN</td>\n",
       "      <td>9/8/22 23:58</td>\n",
       "    </tr>\n",
       "    <tr>\n",
       "      <th>146</th>\n",
       "      <td>448</td>\n",
       "      <td>P2F 7 Falla en Comunicaciones</td>\n",
       "      <td>REM</td>\n",
       "      <td>FECHA_INICIO</td>\n",
       "      <td>9/8/22 23:55</td>\n",
       "    </tr>\n",
       "    <tr>\n",
       "      <th>521</th>\n",
       "      <td>448</td>\n",
       "      <td>P2F 7 Falla en Comunicaciones</td>\n",
       "      <td>REM</td>\n",
       "      <td>FECHA_FIN</td>\n",
       "      <td>9/8/22 23:48</td>\n",
       "    </tr>\n",
       "    <tr>\n",
       "      <th>145</th>\n",
       "      <td>448</td>\n",
       "      <td>P2F 7 Falla en Comunicaciones</td>\n",
       "      <td>REM</td>\n",
       "      <td>FECHA_INICIO</td>\n",
       "      <td>9/8/22 23:45</td>\n",
       "    </tr>\n",
       "    <tr>\n",
       "      <th>520</th>\n",
       "      <td>448</td>\n",
       "      <td>P2F 7 Falla en Comunicaciones</td>\n",
       "      <td>REM</td>\n",
       "      <td>FECHA_FIN</td>\n",
       "      <td>9/8/22 23:37</td>\n",
       "    </tr>\n",
       "    <tr>\n",
       "      <th>...</th>\n",
       "      <td>...</td>\n",
       "      <td>...</td>\n",
       "      <td>...</td>\n",
       "      <td>...</td>\n",
       "      <td>...</td>\n",
       "    </tr>\n",
       "    <tr>\n",
       "      <th>149</th>\n",
       "      <td>448</td>\n",
       "      <td>P2F 7 Falla en Comunicaciones</td>\n",
       "      <td>REM</td>\n",
       "      <td>FECHA_INICIO</td>\n",
       "      <td>10/8/22 00:33</td>\n",
       "    </tr>\n",
       "    <tr>\n",
       "      <th>524</th>\n",
       "      <td>448</td>\n",
       "      <td>P2F 7 Falla en Comunicaciones</td>\n",
       "      <td>REM</td>\n",
       "      <td>FECHA_FIN</td>\n",
       "      <td>10/8/22 00:25</td>\n",
       "    </tr>\n",
       "    <tr>\n",
       "      <th>148</th>\n",
       "      <td>448</td>\n",
       "      <td>P2F 7 Falla en Comunicaciones</td>\n",
       "      <td>REM</td>\n",
       "      <td>FECHA_INICIO</td>\n",
       "      <td>10/8/22 00:17</td>\n",
       "    </tr>\n",
       "    <tr>\n",
       "      <th>523</th>\n",
       "      <td>448</td>\n",
       "      <td>P2F 7 Falla en Comunicaciones</td>\n",
       "      <td>REM</td>\n",
       "      <td>FECHA_FIN</td>\n",
       "      <td>10/8/22 00:09</td>\n",
       "    </tr>\n",
       "    <tr>\n",
       "      <th>147</th>\n",
       "      <td>448</td>\n",
       "      <td>P2F 7 Falla en Comunicaciones</td>\n",
       "      <td>REM</td>\n",
       "      <td>FECHA_INICIO</td>\n",
       "      <td>10/8/22 00:07</td>\n",
       "    </tr>\n",
       "  </tbody>\n",
       "</table>\n",
       "<p>752 rows × 5 columns</p>\n",
       "</div>"
      ],
      "text/plain": [
       "    ATM_ID                          FALLA TIPO_SITIO    TIPO_FECHA  \\\n",
       "522    448  P2F 7 Falla en Comunicaciones        REM     FECHA_FIN   \n",
       "146    448  P2F 7 Falla en Comunicaciones        REM  FECHA_INICIO   \n",
       "521    448  P2F 7 Falla en Comunicaciones        REM     FECHA_FIN   \n",
       "145    448  P2F 7 Falla en Comunicaciones        REM  FECHA_INICIO   \n",
       "520    448  P2F 7 Falla en Comunicaciones        REM     FECHA_FIN   \n",
       "..     ...                            ...        ...           ...   \n",
       "149    448  P2F 7 Falla en Comunicaciones        REM  FECHA_INICIO   \n",
       "524    448  P2F 7 Falla en Comunicaciones        REM     FECHA_FIN   \n",
       "148    448  P2F 7 Falla en Comunicaciones        REM  FECHA_INICIO   \n",
       "523    448  P2F 7 Falla en Comunicaciones        REM     FECHA_FIN   \n",
       "147    448  P2F 7 Falla en Comunicaciones        REM  FECHA_INICIO   \n",
       "\n",
       "         TIMESTAMP  \n",
       "522   9/8/22 23:58  \n",
       "146   9/8/22 23:55  \n",
       "521   9/8/22 23:48  \n",
       "145   9/8/22 23:45  \n",
       "520   9/8/22 23:37  \n",
       "..             ...  \n",
       "149  10/8/22 00:33  \n",
       "524  10/8/22 00:25  \n",
       "148  10/8/22 00:17  \n",
       "523  10/8/22 00:09  \n",
       "147  10/8/22 00:07  \n",
       "\n",
       "[752 rows x 5 columns]"
      ]
     },
     "execution_count": 16,
     "metadata": {},
     "output_type": "execute_result"
    }
   ],
   "source": [
    "sample_issues.melt(id_vars=['ATM_ID', 'FALLA', 'TIPO_SITIO'],\n",
    "                   value_vars=['FECHA_INICIO', 'FECHA_FIN'],\n",
    "                   var_name=\"TIPO_FECHA\",\n",
    "                   value_name=\"TIMESTAMP\").sort_values(by=\"TIMESTAMP\", ascending=False)"
   ]
  },
  {
   "cell_type": "code",
   "execution_count": 102,
   "metadata": {},
   "outputs": [],
   "source": [
    "def df_transformer(df):\n",
    "    # Melt the dates, sort them from earliest to latest by atm. Remove duplicated events for the same ATM\n",
    "    df = df.melt(id_vars=['ATM_ID', 'FALLA', 'TIPO_SITIO'],\n",
    "                    value_vars=['FECHA_INICIO', 'FECHA_FIN'],\n",
    "                    var_name=\"TIPO_FECHA\",\n",
    "                    value_name=\"TIMESTAMP\")\n",
    "    df = df.sort_values(by=[\"ATM_ID\", \"TIMESTAMP\"], ascending=False)\n",
    "    df = df.drop_duplicates(subset=['ATM_ID', 'TIMESTAMP'])\n",
    "    # Fill forward between \"FECHA_FIN\" and \"FECHA_INICIO\" values\n",
    "    \n",
    "    return df"
   ]
  },
  {
   "cell_type": "code",
   "execution_count": 103,
   "metadata": {},
   "outputs": [],
   "source": [
    "sample_melted = df_transformer(sample_issues)"
   ]
  },
  {
   "cell_type": "code",
   "execution_count": 101,
   "metadata": {},
   "outputs": [
    {
     "data": {
      "text/plain": [
       "Timedelta('-1 days +23:57:00')"
      ]
     },
     "execution_count": 101,
     "metadata": {},
     "output_type": "execute_result"
    }
   ],
   "source": [
    "pd.to_datetime(sample_melted.iloc[1]['TIMESTAMP']) - pd.to_datetime(sample_melted.iloc[0]['TIMESTAMP'])"
   ]
  },
  {
   "cell_type": "code",
   "execution_count": 86,
   "metadata": {},
   "outputs": [
    {
     "name": "stdout",
     "output_type": "stream",
     "text": [
      "<class 'pandas.core.frame.DataFrame'>\n",
      "Int64Index: 752 entries, 147 to 522\n",
      "Data columns (total 5 columns):\n",
      " #   Column      Non-Null Count  Dtype \n",
      "---  ------      --------------  ----- \n",
      " 0   ATM_ID      752 non-null    object\n",
      " 1   FALLA       752 non-null    object\n",
      " 2   TIPO_SITIO  752 non-null    object\n",
      " 3   TIPO_FECHA  752 non-null    object\n",
      " 4   TIMESTAMP   752 non-null    object\n",
      "dtypes: object(5)\n",
      "memory usage: 35.2+ KB\n"
     ]
    }
   ],
   "source": [
    "sample_melted.info()"
   ]
  },
  {
   "cell_type": "code",
   "execution_count": 87,
   "metadata": {},
   "outputs": [],
   "source": [
    "sample_melted['TIMESTAMP'] = pd.to_datetime(sample_melted['TIMESTAMP'])"
   ]
  },
  {
   "cell_type": "code",
   "execution_count": 88,
   "metadata": {},
   "outputs": [
    {
     "name": "stdout",
     "output_type": "stream",
     "text": [
      "<class 'pandas.core.frame.DataFrame'>\n",
      "Int64Index: 752 entries, 147 to 522\n",
      "Data columns (total 5 columns):\n",
      " #   Column      Non-Null Count  Dtype         \n",
      "---  ------      --------------  -----         \n",
      " 0   ATM_ID      752 non-null    object        \n",
      " 1   FALLA       752 non-null    object        \n",
      " 2   TIPO_SITIO  752 non-null    object        \n",
      " 3   TIPO_FECHA  752 non-null    object        \n",
      " 4   TIMESTAMP   752 non-null    datetime64[ns]\n",
      "dtypes: datetime64[ns](1), object(4)\n",
      "memory usage: 35.2+ KB\n"
     ]
    }
   ],
   "source": [
    "sample_melted.info()"
   ]
  },
  {
   "cell_type": "code",
   "execution_count": 98,
   "metadata": {},
   "outputs": [
    {
     "data": {
      "text/plain": [
       "Timedelta('-30 days +07:18:00')"
      ]
     },
     "execution_count": 98,
     "metadata": {},
     "output_type": "execute_result"
    }
   ],
   "source": [
    "sample_melted.iloc[600]['TIMESTAMP'] - sample_melted.iloc[0]['TIMESTAMP']"
   ]
  },
  {
   "cell_type": "code",
   "execution_count": 97,
   "metadata": {},
   "outputs": [
    {
     "name": "stdout",
     "output_type": "stream",
     "text": [
      "DatetimeIndex([], dtype='datetime64[ns]', freq='D')\n"
     ]
    }
   ],
   "source": [
    "idx = pd.date_range(start=sample_melted.iloc[0]['TIMESTAMP'], end=sample_melted.iloc[600]['TIMESTAMP'])\n",
    "print(idx)"
   ]
  },
  {
   "cell_type": "code",
   "execution_count": 71,
   "metadata": {},
   "outputs": [],
   "source": [
    "def date_filler(df):\n",
    "    # idx = pd.date_range(pd.to_datetime(df['TIMESTAMP'].iloc[0]), pd.to_datetime(df['TIMESTAMP'].iloc[-1]))\n",
    "    idx = pd.date_range('08-01-2022', '08-15-2022')\n",
    "    df.index = pd.DatetimeIndex(df['TIMESTAMP'])\n",
    "    df_out = df.reindex(idx, fill_value=0)\n",
    "\n",
    "    return df_out"
   ]
  },
  {
   "cell_type": "code",
   "execution_count": 72,
   "metadata": {},
   "outputs": [
    {
     "data": {
      "text/html": [
       "<div>\n",
       "<style scoped>\n",
       "    .dataframe tbody tr th:only-of-type {\n",
       "        vertical-align: middle;\n",
       "    }\n",
       "\n",
       "    .dataframe tbody tr th {\n",
       "        vertical-align: top;\n",
       "    }\n",
       "\n",
       "    .dataframe thead th {\n",
       "        text-align: right;\n",
       "    }\n",
       "</style>\n",
       "<table border=\"1\" class=\"dataframe\">\n",
       "  <thead>\n",
       "    <tr style=\"text-align: right;\">\n",
       "      <th></th>\n",
       "      <th>ATM_ID</th>\n",
       "      <th>FALLA</th>\n",
       "      <th>TIPO_SITIO</th>\n",
       "      <th>TIPO_FECHA</th>\n",
       "      <th>TIMESTAMP</th>\n",
       "    </tr>\n",
       "  </thead>\n",
       "  <tbody>\n",
       "    <tr>\n",
       "      <th>2022-08-01</th>\n",
       "      <td>0</td>\n",
       "      <td>0</td>\n",
       "      <td>0</td>\n",
       "      <td>0</td>\n",
       "      <td>0</td>\n",
       "    </tr>\n",
       "    <tr>\n",
       "      <th>2022-08-02</th>\n",
       "      <td>0</td>\n",
       "      <td>0</td>\n",
       "      <td>0</td>\n",
       "      <td>0</td>\n",
       "      <td>0</td>\n",
       "    </tr>\n",
       "    <tr>\n",
       "      <th>2022-08-03</th>\n",
       "      <td>0</td>\n",
       "      <td>0</td>\n",
       "      <td>0</td>\n",
       "      <td>0</td>\n",
       "      <td>0</td>\n",
       "    </tr>\n",
       "    <tr>\n",
       "      <th>2022-08-04</th>\n",
       "      <td>0</td>\n",
       "      <td>0</td>\n",
       "      <td>0</td>\n",
       "      <td>0</td>\n",
       "      <td>0</td>\n",
       "    </tr>\n",
       "    <tr>\n",
       "      <th>2022-08-05</th>\n",
       "      <td>0</td>\n",
       "      <td>0</td>\n",
       "      <td>0</td>\n",
       "      <td>0</td>\n",
       "      <td>0</td>\n",
       "    </tr>\n",
       "    <tr>\n",
       "      <th>2022-08-06</th>\n",
       "      <td>0</td>\n",
       "      <td>0</td>\n",
       "      <td>0</td>\n",
       "      <td>0</td>\n",
       "      <td>0</td>\n",
       "    </tr>\n",
       "    <tr>\n",
       "      <th>2022-08-07</th>\n",
       "      <td>0</td>\n",
       "      <td>0</td>\n",
       "      <td>0</td>\n",
       "      <td>0</td>\n",
       "      <td>0</td>\n",
       "    </tr>\n",
       "    <tr>\n",
       "      <th>2022-08-08</th>\n",
       "      <td>0</td>\n",
       "      <td>0</td>\n",
       "      <td>0</td>\n",
       "      <td>0</td>\n",
       "      <td>0</td>\n",
       "    </tr>\n",
       "    <tr>\n",
       "      <th>2022-08-09</th>\n",
       "      <td>0</td>\n",
       "      <td>0</td>\n",
       "      <td>0</td>\n",
       "      <td>0</td>\n",
       "      <td>0</td>\n",
       "    </tr>\n",
       "    <tr>\n",
       "      <th>2022-08-10</th>\n",
       "      <td>0</td>\n",
       "      <td>0</td>\n",
       "      <td>0</td>\n",
       "      <td>0</td>\n",
       "      <td>0</td>\n",
       "    </tr>\n",
       "    <tr>\n",
       "      <th>2022-08-11</th>\n",
       "      <td>0</td>\n",
       "      <td>0</td>\n",
       "      <td>0</td>\n",
       "      <td>0</td>\n",
       "      <td>0</td>\n",
       "    </tr>\n",
       "    <tr>\n",
       "      <th>2022-08-12</th>\n",
       "      <td>0</td>\n",
       "      <td>0</td>\n",
       "      <td>0</td>\n",
       "      <td>0</td>\n",
       "      <td>0</td>\n",
       "    </tr>\n",
       "    <tr>\n",
       "      <th>2022-08-13</th>\n",
       "      <td>0</td>\n",
       "      <td>0</td>\n",
       "      <td>0</td>\n",
       "      <td>0</td>\n",
       "      <td>0</td>\n",
       "    </tr>\n",
       "    <tr>\n",
       "      <th>2022-08-14</th>\n",
       "      <td>0</td>\n",
       "      <td>0</td>\n",
       "      <td>0</td>\n",
       "      <td>0</td>\n",
       "      <td>0</td>\n",
       "    </tr>\n",
       "    <tr>\n",
       "      <th>2022-08-15</th>\n",
       "      <td>0</td>\n",
       "      <td>0</td>\n",
       "      <td>0</td>\n",
       "      <td>0</td>\n",
       "      <td>0</td>\n",
       "    </tr>\n",
       "  </tbody>\n",
       "</table>\n",
       "</div>"
      ],
      "text/plain": [
       "           ATM_ID FALLA TIPO_SITIO TIPO_FECHA TIMESTAMP\n",
       "2022-08-01      0     0          0          0         0\n",
       "2022-08-02      0     0          0          0         0\n",
       "2022-08-03      0     0          0          0         0\n",
       "2022-08-04      0     0          0          0         0\n",
       "2022-08-05      0     0          0          0         0\n",
       "2022-08-06      0     0          0          0         0\n",
       "2022-08-07      0     0          0          0         0\n",
       "2022-08-08      0     0          0          0         0\n",
       "2022-08-09      0     0          0          0         0\n",
       "2022-08-10      0     0          0          0         0\n",
       "2022-08-11      0     0          0          0         0\n",
       "2022-08-12      0     0          0          0         0\n",
       "2022-08-13      0     0          0          0         0\n",
       "2022-08-14      0     0          0          0         0\n",
       "2022-08-15      0     0          0          0         0"
      ]
     },
     "execution_count": 72,
     "metadata": {},
     "output_type": "execute_result"
    }
   ],
   "source": [
    "date_filler(sample_melted)"
   ]
  },
  {
   "cell_type": "code",
   "execution_count": 76,
   "metadata": {},
   "outputs": [
    {
     "data": {
      "text/plain": [
       "DatetimeIndex(['2022-08-01', '2022-08-02', '2022-08-03', '2022-08-04',\n",
       "               '2022-08-05', '2022-08-06', '2022-08-07', '2022-08-08',\n",
       "               '2022-08-09', '2022-08-10', '2022-08-11', '2022-08-12',\n",
       "               '2022-08-13', '2022-08-14', '2022-08-15'],\n",
       "              dtype='datetime64[ns]', freq='D')"
      ]
     },
     "execution_count": 76,
     "metadata": {},
     "output_type": "execute_result"
    }
   ],
   "source": [
    "idx = pd.date_range('08-01-2022', '08-15-2022')\n",
    "idx"
   ]
  },
  {
   "cell_type": "code",
   "execution_count": 73,
   "metadata": {},
   "outputs": [
    {
     "name": "stdout",
     "output_type": "stream",
     "text": [
      "2013-09-02     2\n",
      "2013-09-03    10\n",
      "2013-09-06     5\n",
      "2013-09-07     1\n",
      "dtype: int64\n"
     ]
    }
   ],
   "source": [
    "idx = pd.date_range('09-01-2013', '09-30-2013')\n",
    "\n",
    "s = pd.Series({'09-02-2013': 2,\n",
    "               '09-03-2013': 10,\n",
    "               '09-06-2013': 5,\n",
    "               '09-07-2013': 1})\n",
    "s.index = pd.DatetimeIndex(s.index)\n",
    "print(s)\n"
   ]
  },
  {
   "cell_type": "code",
   "execution_count": 74,
   "metadata": {},
   "outputs": [
    {
     "data": {
      "text/plain": [
       "DatetimeIndex(['2013-09-01', '2013-09-02', '2013-09-03', '2013-09-04',\n",
       "               '2013-09-05', '2013-09-06', '2013-09-07', '2013-09-08',\n",
       "               '2013-09-09', '2013-09-10', '2013-09-11', '2013-09-12',\n",
       "               '2013-09-13', '2013-09-14', '2013-09-15', '2013-09-16',\n",
       "               '2013-09-17', '2013-09-18', '2013-09-19', '2013-09-20',\n",
       "               '2013-09-21', '2013-09-22', '2013-09-23', '2013-09-24',\n",
       "               '2013-09-25', '2013-09-26', '2013-09-27', '2013-09-28',\n",
       "               '2013-09-29', '2013-09-30'],\n",
       "              dtype='datetime64[ns]', freq='D')"
      ]
     },
     "execution_count": 74,
     "metadata": {},
     "output_type": "execute_result"
    }
   ],
   "source": [
    "idx"
   ]
  },
  {
   "cell_type": "code",
   "execution_count": 75,
   "metadata": {},
   "outputs": [
    {
     "name": "stdout",
     "output_type": "stream",
     "text": [
      "2013-09-01     0\n",
      "2013-09-02     2\n",
      "2013-09-03    10\n",
      "2013-09-04     0\n",
      "2013-09-05     0\n",
      "2013-09-06     5\n",
      "2013-09-07     1\n",
      "2013-09-08     0\n",
      "2013-09-09     0\n",
      "2013-09-10     0\n",
      "2013-09-11     0\n",
      "2013-09-12     0\n",
      "2013-09-13     0\n",
      "2013-09-14     0\n",
      "2013-09-15     0\n",
      "2013-09-16     0\n",
      "2013-09-17     0\n",
      "2013-09-18     0\n",
      "2013-09-19     0\n",
      "2013-09-20     0\n",
      "2013-09-21     0\n",
      "2013-09-22     0\n",
      "2013-09-23     0\n",
      "2013-09-24     0\n",
      "2013-09-25     0\n",
      "2013-09-26     0\n",
      "2013-09-27     0\n",
      "2013-09-28     0\n",
      "2013-09-29     0\n",
      "2013-09-30     0\n",
      "Freq: D, dtype: int64\n"
     ]
    }
   ],
   "source": [
    "s = s.reindex(idx, fill_value=0)\n",
    "print(s)"
   ]
  }
 ],
 "metadata": {
  "kernelspec": {
   "display_name": "Python 3.8.10 ('venv': venv)",
   "language": "python",
   "name": "python3"
  },
  "language_info": {
   "codemirror_mode": {
    "name": "ipython",
    "version": 3
   },
   "file_extension": ".py",
   "mimetype": "text/x-python",
   "name": "python",
   "nbconvert_exporter": "python",
   "pygments_lexer": "ipython3",
   "version": "3.8.10"
  },
  "orig_nbformat": 4,
  "vscode": {
   "interpreter": {
    "hash": "6774ad4f8edfeed334cd41807c38eb26e4ebb0a3de7ff128b640565760f36a1e"
   }
  }
 },
 "nbformat": 4,
 "nbformat_minor": 2
}
